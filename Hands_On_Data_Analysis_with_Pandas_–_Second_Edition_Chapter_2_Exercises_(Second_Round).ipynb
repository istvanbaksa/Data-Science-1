{
  "nbformat": 4,
  "nbformat_minor": 0,
  "metadata": {
    "colab": {
      "name": "Hands-On Data Analysis with Pandas – Second Edition Chapter 2 Exercises (Second Round).ipynb",
      "provenance": [],
      "authorship_tag": "ABX9TyMpkQwh8zya8cIU4q7wptTN",
      "include_colab_link": true
    },
    "kernelspec": {
      "name": "python3",
      "display_name": "Python 3"
    },
    "language_info": {
      "name": "python"
    }
  },
  "cells": [
    {
      "cell_type": "markdown",
      "metadata": {
        "id": "view-in-github",
        "colab_type": "text"
      },
      "source": [
        "<a href=\"https://colab.research.google.com/github/istvanbaksa/Data-Science-1/blob/main/Hands_On_Data_Analysis_with_Pandas_%E2%80%93_Second_Edition_Chapter_2_Exercises_(Second_Round).ipynb\" target=\"_parent\"><img src=\"https://colab.research.google.com/assets/colab-badge.svg\" alt=\"Open In Colab\"/></a>"
      ]
    },
    {
      "cell_type": "markdown",
      "source": [
        "##Hands-On Data Analysis with Pandas – Second Edition Chapter 2 Exercises (Second Round)"
      ],
      "metadata": {
        "id": "qAfh4NhXxODt"
      }
    },
    {
      "cell_type": "code",
      "execution_count": null,
      "metadata": {
        "colab": {
          "base_uri": "https://localhost:8080/"
        },
        "id": "u29r2SePKYMT",
        "outputId": "c1e84694-25cc-4551-d55d-cf5349e9c51e"
      },
      "outputs": [
        {
          "output_type": "execute_result",
          "data": {
            "text/plain": [
              "4.9"
            ]
          },
          "metadata": {},
          "execution_count": 33
        }
      ],
      "source": [
        "'''\n",
        "Using the data/parsed.csv file and the material from this chapter, complete the\n",
        "following exercises to practice your pandas skills:\n",
        "\n",
        "1. Find the 95th percentile of earthquake magnitude in Japan using the mb\n",
        "magnitude type.\n",
        "\n",
        "'''\n",
        "\n",
        "import pandas as pd\n",
        "import numpy as np\n",
        "pd.set_option('display.max_rows', 500)\n",
        "pd.set_option('display.max_columns', 500)\n",
        "pd.set_option('display.width', 1000)\n",
        "\n",
        "parsed = pd.read_csv('https://raw.githubusercontent.com/stefmolin/Hands-On-Data-Analysis-with-Pandas-2nd-edition/master/ch_02/data/parsed.csv')\n",
        "\n",
        "df = parsed[(parsed.parsed_place == 'Japan') & (parsed.magType == 'mb')]\n",
        "\n",
        "df1 = df['mag'].quantile(.95)\n",
        "\n",
        "display(df1)"
      ]
    },
    {
      "cell_type": "code",
      "source": [
        "'''\n",
        "2. Find the percentage of earthquakes in Indonesia that were coupled with tsunamis.\n",
        "'''\n",
        "\n",
        "\n",
        "import pandas as pd\n",
        "import numpy as np\n",
        "pd.set_option('display.max_rows', 5000)\n",
        "pd.set_option('display.max_columns', 5000)\n",
        "\n",
        "parsed = pd.read_csv('https://raw.githubusercontent.com/stefmolin/Hands-On-Data-Analysis-with-Pandas-2nd-edition/master/ch_02/data/parsed.csv')\n",
        "\n",
        "parsed1 = parsed[parsed.parsed_place == 'Indonesia']\n",
        "\n",
        "parsed2 = parsed1[parsed1.tsunami == 1]\n",
        "\n",
        "print((parsed2.shape[0] / parsed1.shape[0])*100)"
      ],
      "metadata": {
        "colab": {
          "base_uri": "https://localhost:8080/"
        },
        "id": "Gc_LjdjIjQOt",
        "outputId": "0ad319dd-4f2f-48e3-b8ef-54c710e591b2"
      },
      "execution_count": null,
      "outputs": [
        {
          "output_type": "stream",
          "name": "stdout",
          "text": [
            "23.12925170068027\n"
          ]
        }
      ]
    },
    {
      "cell_type": "code",
      "source": [
        "'''\n",
        "3. Calculate summary statistics for earthquakes in Nevada.\n",
        "'''\n",
        "\n",
        "import pandas as pd\n",
        "import numpy as np\n",
        "pd.set_option('display.max_rows', 500)\n",
        "pd.set_option('display.max_columns', 500)\n",
        "\n",
        "parsed = pd.read_csv('https://raw.githubusercontent.com/stefmolin/Hands-On-Data-Analysis-with-Pandas-2nd-edition/master/ch_02/data/parsed.csv')\n",
        "\n",
        "parsed1 = parsed[parsed.parsed_place == 'Nevada']\n",
        "parsed1.describe()"
      ],
      "metadata": {
        "id": "NIU2-Qv_lamD"
      },
      "execution_count": null,
      "outputs": []
    },
    {
      "cell_type": "code",
      "source": [
        "'''\n",
        "4. Add a column indicating whether the earthquake happened in a country or US\n",
        "state that is on the Ring of Fire. Use Alaska, Antarctica (look for Antarctic), Bolivia,\n",
        "California, Canada, Chile, Costa Rica, Ecuador, Fiji, Guatemala, Indonesia, Japan,\n",
        "Kermadec Islands, Mexico (be careful not to select New Mexico), New Zealand,\n",
        "Peru, Philippines, Russia, Taiwan, Tonga, and Washington.\n",
        "'''\n",
        "\n",
        "import pandas as pd\n",
        "import numpy as np\n",
        "pd.set_option('display.max_rows', 5000)\n",
        "pd.set_option('display.max_columns', 5000)\n",
        "\n",
        "parsed = pd.read_csv('https://raw.githubusercontent.com/stefmolin/Hands-On-Data-Analysis-with-Pandas-2nd-edition/master/ch_02/data/parsed.csv')\n",
        "\n",
        "ring_of_fire = ['Alaska', 'Antarctic', 'Bolivia',\n",
        "'California', 'Canada', 'Chile', 'Costa Rica', 'Ecuador', 'Fiji', 'Guatemala', 'Indonesia', 'Japan',\n",
        "'Kermadec Islands', 'Mexico', 'New Zealand', 'Peru', 'Philippines', 'Russia', 'Taiwan', 'Tonga', 'Washington']\n",
        "\n",
        "parsed['r_o_f'] = parsed.parsed_place.isin(ring_of_fire)\n",
        "display(parsed)"
      ],
      "metadata": {
        "id": "WQ_Syu5mnUUe"
      },
      "execution_count": null,
      "outputs": []
    },
    {
      "cell_type": "code",
      "source": [
        "'''\n",
        "5. Calculate the number of earthquakes in the Ring of Fire locations and the number\n",
        "outside of them.\n",
        "'''\n",
        "\n",
        "\n",
        "import pandas as pd\n",
        "import numpy as np\n",
        "pd.set_option('display.max_rows', 5000)\n",
        "pd.set_option('display.max_columns', 5000)\n",
        "\n",
        "parsed = pd.read_csv('https://raw.githubusercontent.com/stefmolin/Hands-On-Data-Analysis-with-Pandas-2nd-edition/master/ch_02/data/parsed.csv')\n",
        "\n",
        "ring_of_fire = ['Alaska', 'Antarctic', 'Bolivia',\n",
        "'California', 'Canada', 'Chile', 'Costa Rica', 'Ecuador', 'Fiji', 'Guatemala', 'Indonesia', 'Japan',\n",
        "'Kermadec Islands', 'Mexico', 'New Zealand', 'Peru', 'Philippines', 'Russia', 'Taiwan', 'Tonga', 'Washington']\n",
        "\n",
        "parsed['r_o_f'] = parsed.parsed_place.isin(ring_of_fire)\n",
        "parsed2 = parsed[parsed.r_o_f == True]\n",
        "\n",
        "print(f'Number of earthquakes in the Ring of fire: {parsed2.shape[0]}, outside the Ring of Fire: {parsed.shape[0] - parsed2.shape[0]}.')"
      ],
      "metadata": {
        "id": "EDKv8IpTvb7v"
      },
      "execution_count": null,
      "outputs": []
    },
    {
      "cell_type": "code",
      "source": [
        "'''\n",
        "6. Find the tsunami count along the Ring of Fire.\n",
        "'''\n",
        "\n",
        "\n",
        "import pandas as pd\n",
        "import numpy as np\n",
        "\n",
        "pd.set_option('display.max_rows', 500)\n",
        "pd.set_option('display.max_columns', 500)\n",
        "\n",
        "parsed = pd.read_csv('https://raw.githubusercontent.com/stefmolin/Hands-On-Data-Analysis-with-Pandas-2nd-edition/master/ch_02/data/parsed.csv')\n",
        "\n",
        "ring_of_fire = ['Alaska', 'Antarctic', 'Bolivia',\n",
        "'California', 'Canada', 'Chile', 'Costa Rica', 'Ecuador', 'Fiji', 'Guatemala', 'Indonesia', 'Japan',\n",
        "'Kermadec Islands', 'Mexico', 'New Zealand', 'Peru', 'Philippines', 'Russia', 'Taiwan', 'Tonga', 'Washington']\n",
        "\n",
        "parsed['r_o_f'] = parsed.parsed_place.isin(ring_of_fire)\n",
        "parsed2 = parsed[(parsed.r_o_f == True) & (parsed.tsunami == 1)]\n",
        "display(parsed2.shape[0])"
      ],
      "metadata": {
        "colab": {
          "base_uri": "https://localhost:8080/",
          "height": 34
        },
        "id": "bmrQ0aHpwY3t",
        "outputId": "67a3d5ee-ea24-4220-bf39-c33ca15e8be9"
      },
      "execution_count": null,
      "outputs": [
        {
          "output_type": "display_data",
          "data": {
            "text/plain": [
              "45"
            ]
          },
          "metadata": {}
        }
      ]
    }
  ]
}